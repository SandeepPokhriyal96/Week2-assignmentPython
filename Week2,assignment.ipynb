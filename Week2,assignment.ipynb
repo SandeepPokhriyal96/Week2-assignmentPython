{
 "cells": [
  {
   "cell_type": "code",
   "execution_count": null,
   "id": "3c3c23f0-2e61-40a8-8504-345a07a88216",
   "metadata": {},
   "outputs": [],
   "source": [
    "# Q1.How do you comment code in Python? What are the different types of comments?"
   ]
  },
  {
   "cell_type": "code",
   "execution_count": 3,
   "id": "edeaa77d-cbf7-45ed-9860-e779ada598a5",
   "metadata": {},
   "outputs": [
    {
     "data": {
      "text/plain": [
       "\"It's important to add comment to your code to make it more understandble and maintainable for yourself\\nand others who may read your code.\\nThere are two types of comments in python: single line comments, multi line comments.\\nsingle line comments are created by adding a hash symbol(#) before the text of the comment.\\nThe # symbol tells python to ignore everything that follows it on that line. For example:\\n# This is a comment in python.\\nMultiline comments can be created by enclosig the text within triple quotes.\\nThis answer of question1 is also written in multiline comment. \\n\""
      ]
     },
     "execution_count": 3,
     "metadata": {},
     "output_type": "execute_result"
    }
   ],
   "source": [
    "\"\"\"It's important to add comment to your code to make it more understandble and maintainable for yourself\n",
    "and others who may read your code.\n",
    "There are two types of comments in python: single line comments, multi line comments.\n",
    "single line comments are created by adding a hash symbol(#) before the text of the comment.\n",
    "The # symbol tells python to ignore everything that follows it on that line. For example:\n",
    "# This is a comment in python.\n",
    "Multiline comments can be created by enclosig the text within triple quotes.\n",
    "This answer of question1 is also written in multiline comment. \n",
    "\"\"\""
   ]
  },
  {
   "cell_type": "code",
   "execution_count": null,
   "id": "b217df1b-f5c8-49e5-852c-d76958c5733c",
   "metadata": {},
   "outputs": [],
   "source": [
    "# Q2.What are variables in Python? How do you declare and assign values to variables?"
   ]
  },
  {
   "cell_type": "code",
   "execution_count": null,
   "id": "494eb788-e9cf-4cce-9deb-035e68651d4b",
   "metadata": {},
   "outputs": [],
   "source": [
    "\"\"\" Variables in python are used to store data values. They are containers that hold a values, such as number\n",
    "or string. They are decleared by assigning a value to them using the  \"=\" operator. For example:\n",
    "x =  5\n",
    "y = \"Hello\"\n",
    "\n",
    "In this example, \"x\" is a variable that holds the integer value 5 and y is a variable taht hols the sring value \"Hello\".\n"
   ]
  },
  {
   "cell_type": "code",
   "execution_count": null,
   "id": "caf72cf0-0ce3-414e-8d30-0c7c78fefb58",
   "metadata": {},
   "outputs": [],
   "source": [
    "# Q3. How do you convert one data type to another in Python?"
   ]
  },
  {
   "cell_type": "code",
   "execution_count": null,
   "id": "62bf4022-ebb0-4206-84fc-b918b6f13106",
   "metadata": {},
   "outputs": [],
   "source": [
    "\"\"\" In python, you can convert one data type to another using type conversion funcation. Here are some example:\n",
    "1. int() function converts a string or float to an interger.\n",
    " x = \"5\"\n",
    " y = 3.5\n",
    " z = int(x)\n",
    " a = int(y)\n",
    " print(z)   #output: 5\n",
    " print(a)   #output: 3\n",
    "\n",
    "2. float() converts a string or integer to a float.\n",
    " x = 5\n",
    " z = float(x)\n",
    " print(z)   #output: 5.0\n",
    "\n",
    "3. str() function converts an integer or float to a string.\n",
    " x = 5\n",
    " y = 3.5\n",
    " z = str(x)\n",
    " a = str(y)\n",
    " print(z)   #output: \"5\"\n",
    " print(a)   #output: \"3.5\""
   ]
  },
  {
   "cell_type": "code",
   "execution_count": null,
   "id": "4e2475cc-1865-4313-b4ba-6a87381e550f",
   "metadata": {},
   "outputs": [],
   "source": [
    "#Q4. How do you write and execute a Python script from the command line?"
   ]
  },
  {
   "cell_type": "code",
   "execution_count": null,
   "id": "01b5360a-8bd8-48eb-bda4-251d9805cb63",
   "metadata": {},
   "outputs": [],
   "source": [
    "\"\"\" To write and execute a python script from the command line, follow these steps:\n",
    "1. Open a command prompt.\n",
    "2. Navigate to the directory where you want to create your python script.\n",
    "3. Type \" pycharm scriptname.py\" (replace \"scriptname\" with your desired file name) to open a new file in the pycharm editior.\n",
    "4. write your python code.\n",
    "5. Then enter save your changes and exit.\n",
    "6. Type \"python scriptname.py\" to execute your python script."
   ]
  },
  {
   "cell_type": "code",
   "execution_count": null,
   "id": "8a2585b6-bd9f-4d32-9956-bda17a4fd1e5",
   "metadata": {},
   "outputs": [],
   "source": [
    "#Q5. Given a list my_list = [1, 2, 3, 4, 5], write the code to slice the list and obtain the sub-list [2, 3]."
   ]
  },
  {
   "cell_type": "code",
   "execution_count": null,
   "id": "7ff707d0-064d-4511-a48e-2bd19df9207a",
   "metadata": {},
   "outputs": [],
   "source": [
    "my_list = [1, 2, 3, 4, 5]\n",
    "sub_list = my_list[1:3]\n",
    "print(sub_list)"
   ]
  },
  {
   "cell_type": "code",
   "execution_count": null,
   "id": "fd6e20b0-9149-4c00-a73c-6f09c378e38c",
   "metadata": {},
   "outputs": [],
   "source": [
    "#Q6. What is a complex number in mathematics, and how is it represented in Python?"
   ]
  },
  {
   "cell_type": "code",
   "execution_count": null,
   "id": "c521b1f4-d681-4607-bff4-16fbfc6613af",
   "metadata": {},
   "outputs": [],
   "source": [
    "\"\"\" A complex number is a number that consists of a real part and an imaginary part. It is represented in python by using the \"j\" or j suffix\n",
    "to indicate the imaginary part. For example, the complex number 3+5i can  be represented in python as 3+5j.\n",
    "The real part can be accessed using the \"real \" attribute and the imaginary part can be accessed using the \"imag \" attribute."
   ]
  },
  {
   "cell_type": "code",
   "execution_count": null,
   "id": "512aa304-1d47-4da6-9cd8-20a39d134823",
   "metadata": {},
   "outputs": [],
   "source": [
    "#Q7. What is the correct way to declare a variable named age and assign the value 25 to it?"
   ]
  },
  {
   "cell_type": "code",
   "execution_count": null,
   "id": "9b568e7f-59e9-4400-bc63-3f302a745c9f",
   "metadata": {},
   "outputs": [],
   "source": [
    "age = 25"
   ]
  },
  {
   "cell_type": "code",
   "execution_count": null,
   "id": "025935f0-73e7-48f6-9419-a18a5792c80c",
   "metadata": {},
   "outputs": [],
   "source": [
    "#Q8. Declare a variable named price and assign the value 9.99 to it. What data type does this variable belong to?"
   ]
  },
  {
   "cell_type": "code",
   "execution_count": null,
   "id": "47ebc4d6-9047-4a76-8ba7-13857c3be447",
   "metadata": {},
   "outputs": [],
   "source": [
    "price = 9.99\n",
    "print(type(price))   # Output: float"
   ]
  },
  {
   "cell_type": "code",
   "execution_count": null,
   "id": "ecf026c6-128a-4894-99c3-b00def586690",
   "metadata": {},
   "outputs": [],
   "source": [
    "#Q9.Create a variable named name and assign your full name to it as a string. How would you print the value of this variable?"
   ]
  },
  {
   "cell_type": "code",
   "execution_count": null,
   "id": "ff1dcf49-418d-438e-940b-b01e33397c0a",
   "metadata": {},
   "outputs": [],
   "source": [
    "name = \"Sandeep singh\"\n",
    "print(name)"
   ]
  },
  {
   "cell_type": "code",
   "execution_count": null,
   "id": "373d2a15-0a2c-43ec-a193-d04ff320d839",
   "metadata": {},
   "outputs": [],
   "source": [
    "#Q10.Given the string \"Hello, World!\", extract the substring \"World\"."
   ]
  },
  {
   "cell_type": "code",
   "execution_count": null,
   "id": "d9b2a829-427a-413e-b48c-c9e77fdace0d",
   "metadata": {},
   "outputs": [],
   "source": [
    "s  = \"Hello, World!\"\n",
    "substring = s[7:12]\n",
    "print(substring)"
   ]
  },
  {
   "cell_type": "code",
   "execution_count": null,
   "id": "71fc19f7-d446-40be-b5c9-878008a20d5d",
   "metadata": {},
   "outputs": [],
   "source": [
    "#Q11.Create a variable named \"is_student\" and assign it a boolean value indicating whether you are currently a student or not."
   ]
  },
  {
   "cell_type": "code",
   "execution_count": null,
   "id": "65872c37-802d-444e-bfbe-a01a4a39598c",
   "metadata": {},
   "outputs": [],
   "source": [
    "is_student = True"
   ]
  },
  {
   "cell_type": "code",
   "execution_count": null,
   "id": "e4101771-effc-4c36-ae28-709515be5f8e",
   "metadata": {},
   "outputs": [],
   "source": []
  }
 ],
 "metadata": {
  "kernelspec": {
   "display_name": "Python 3 (ipykernel)",
   "language": "python",
   "name": "python3"
  },
  "language_info": {
   "codemirror_mode": {
    "name": "ipython",
    "version": 3
   },
   "file_extension": ".py",
   "mimetype": "text/x-python",
   "name": "python",
   "nbconvert_exporter": "python",
   "pygments_lexer": "ipython3",
   "version": "3.10.8"
  }
 },
 "nbformat": 4,
 "nbformat_minor": 5
}
